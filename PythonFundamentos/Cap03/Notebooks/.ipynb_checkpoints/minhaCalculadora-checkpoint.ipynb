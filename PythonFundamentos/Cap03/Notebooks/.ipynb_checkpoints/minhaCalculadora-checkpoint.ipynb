{
 "cells": [
  {
   "cell_type": "code",
   "execution_count": 1,
   "metadata": {},
   "outputs": [],
   "source": [
    "#Função calculadora\n",
    "def calc(operacao, priNum, segNum):\n",
    "    \n",
    "    if operacao == 1:\n",
    "        resultado = int(priNum) + int(segNum)\n",
    "        descOpe   = 'Soma = '\n",
    "    elif operacao == 2:\n",
    "        resultado = int(priNum) - int(segNum)\n",
    "        descOpe   = 'Subtração = '       \n",
    "    elif operacao == 3:\n",
    "        resultado = int(priNum) * int(segNum)\n",
    "        descOpe   = 'Multiplicação = '       \n",
    "    else:\n",
    "        resultado = int(priNum) / int(segNum)\n",
    "        descOpe   = 'Divisão = '\n",
    "    retorno = descOpe + str(resultado)\n",
    "        \n",
    "    return(retorno)"
   ]
  },
  {
   "cell_type": "code",
   "execution_count": 2,
   "metadata": {},
   "outputs": [
    {
     "name": "stdout",
     "output_type": "stream",
     "text": [
      "***************  Minha Calculadora Python  ***************\n",
      "\n",
      "\n",
      "Selecione o número da operação desejada:\n",
      "\n",
      "\n",
      "1-Soma\n",
      "2-Subtração\n",
      "3-Multiplicação\n",
      "4-Divisão\n",
      "\n",
      "\n",
      "\n",
      "Digite sua opção(1/2/3/4):\n",
      "4\n",
      "\n",
      "\n",
      "Digite o primeiro número:\n",
      "89\n",
      "\n",
      "\n",
      "Digite o segundo número:\n",
      "5\n",
      "\n"
     ]
    }
   ],
   "source": [
    "### Tela para entrada de dados\n",
    "print(\"***************  Minha Calculadora Python  ***************\")\n",
    "print(\"\")\n",
    "print(\"\\nSelecione o número da operação desejada:\\n\")\n",
    "print(\"\")\n",
    "print(\"1-Soma\")\n",
    "print(\"2-Subtração\")\n",
    "print(\"3-Multiplicação\")\n",
    "print(\"4-Divisão\")\n",
    "print(\"\")\n",
    "print(\"\")\n",
    "operacao = input(\"\\nDigite sua opção(1/2/3/4):\\n\")\n",
    "print(\"\")\n",
    "priNum = input(\"\\nDigite o primeiro número:\\n\")\n",
    "print(\"\")\n",
    "segNum = input(\"\\nDigite o segundo número:\\n\")\n",
    "print(\"\")"
   ]
  },
  {
   "cell_type": "code",
   "execution_count": 3,
   "metadata": {},
   "outputs": [
    {
     "name": "stdout",
     "output_type": "stream",
     "text": [
      "Divisão = 17.8\n"
     ]
    }
   ],
   "source": [
    "# Validação dos dados de entrada e chamada da função calc\n",
    "if operacao.isalnum():\n",
    "    if int(operacao) <= 0 or int(operacao) >= 5:\n",
    "        print(\"Operação inválida\")\n",
    "    else:\n",
    "        if priNum.isalnum():\n",
    "            if segNum.isalnum():\n",
    "                Resultado = calc(operacao, priNum, segNum)\n",
    "                print(Resultado)   \n",
    "            else:\n",
    "                print(\"Segundo argumento não numérico.\") \n",
    "        else:                \n",
    "            print(\"Primeiro argumento não numérico.\")   \n",
    "else:\n",
    "    print(\"Operação digitada não numérica.\")"
   ]
  }
 ],
 "metadata": {
  "kernelspec": {
   "display_name": "Python 3",
   "language": "python",
   "name": "python3"
  },
  "language_info": {
   "codemirror_mode": {
    "name": "ipython",
    "version": 3
   },
   "file_extension": ".py",
   "mimetype": "text/x-python",
   "name": "python",
   "nbconvert_exporter": "python",
   "pygments_lexer": "ipython3",
   "version": "3.7.4"
  }
 },
 "nbformat": 4,
 "nbformat_minor": 2
}
