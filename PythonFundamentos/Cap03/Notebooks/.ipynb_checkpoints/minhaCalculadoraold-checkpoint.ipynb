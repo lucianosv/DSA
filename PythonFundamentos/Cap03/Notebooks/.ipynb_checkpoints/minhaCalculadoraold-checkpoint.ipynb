{
 "cells": [
  {
   "cell_type": "code",
   "execution_count": 1,
   "metadata": {},
   "outputs": [],
   "source": [
    "#Função calculadora\n",
    "def calc(operacao, priNum, segNum):\n",
    "    print(\"Primeiro número: \" + str(priNum))\n",
    "    print(\"Segundo número: \" + str(segNum))\n",
    "    return(\"Soma:\", int(priNum) + int(segNum))"
   ]
  },
  {
   "cell_type": "code",
   "execution_count": 2,
   "metadata": {},
   "outputs": [
    {
     "name": "stdout",
     "output_type": "stream",
     "text": [
      "***************  Minha Calculadora Python  ***************\n",
      "\n",
      "Selecione o número da operação desejada:\n",
      "\n",
      "1-Soma\n",
      "2-Subtração\n",
      "3-Multiplicação\n",
      "4-Divisão\n",
      "\n",
      "\n",
      "Digite sua opção(1/2/3/4):5\n",
      "\n",
      "Digite o primeiro número:5\n",
      "\n",
      "Digite o segundo número:5\n",
      "\n"
     ]
    }
   ],
   "source": [
    "#Tela para entrada de dados\n",
    "print('***************  Minha Calculadora Python  ***************')\n",
    "print('')\n",
    "print('Selecione o número da operação desejada:')\n",
    "print('')\n",
    "print('1-Soma')\n",
    "print('2-Subtração')\n",
    "print('3-Multiplicação')\n",
    "print('4-Divisão')\n",
    "print('')\n",
    "print('')\n",
    "operacao = int(input('Digite sua opção(1/2/3/4):'))\n",
    "#print(operacao.isalnum())\n",
    "print('')\n",
    "priNum = input('Digite o primeiro número:')\n",
    "print('')\n",
    "segNum = input('Digite o segundo número:')\n",
    "print('')"
   ]
  },
  {
   "cell_type": "code",
   "execution_count": 3,
   "metadata": {},
   "outputs": [
    {
     "ename": "SyntaxError",
     "evalue": "invalid syntax (<ipython-input-3-261cc0fb8ddd>, line 15)",
     "output_type": "error",
     "traceback": [
      "\u001b[1;36m  File \u001b[1;32m\"<ipython-input-3-261cc0fb8ddd>\"\u001b[1;36m, line \u001b[1;32m15\u001b[0m\n\u001b[1;33m    If int(operacao) < 1 or int(operacao) > 4:\u001b[0m\n\u001b[1;37m         ^\u001b[0m\n\u001b[1;31mSyntaxError\u001b[0m\u001b[1;31m:\u001b[0m invalid syntax\n"
     ]
    }
   ],
   "source": [
    "#Validação dos dados de entrada e chamada da função calc\n",
    "'''\n",
    "If int(operacao) < 1 or int(operacao) > 4:\n",
    "    print('São válidas somente as opções 1, 2, 3 ou 4.')\n",
    "Else:\n",
    "    If not priNum.isalnum():\n",
    "        print('Primeiro argumento não numérico.') \n",
    "'''\n",
    "'''\n",
    "If operacao.isalnum():\n",
    "    print('São válidas somente as opções 1, 2, 3 ou 4.') \n",
    "Else:\n",
    "'''\n",
    "If operacao < 1 or operacao > 4:\n",
    "    print('São válidas somente as opções 1, 2, 3 ou 4.')\n",
    "Else:\n",
    "    If not priNum.isalnum():\n",
    "        print('Primeiro argumento não numérico.') \n",
    "    Else:\n",
    "        If not segNum.isalnum():\n",
    "            print('Segundo argumento não numérico.') \n",
    "        Else:\n",
    "            Resultado = calc(operacao, priNum, segNum)\n",
    "            print(Resultado)"
   ]
  },
  {
   "cell_type": "code",
   "execution_count": null,
   "metadata": {},
   "outputs": [],
   "source": []
  }
 ],
 "metadata": {
  "kernelspec": {
   "display_name": "Python 3",
   "language": "python",
   "name": "python3"
  },
  "language_info": {
   "codemirror_mode": {
    "name": "ipython",
    "version": 3
   },
   "file_extension": ".py",
   "mimetype": "text/x-python",
   "name": "python",
   "nbconvert_exporter": "python",
   "pygments_lexer": "ipython3",
   "version": "3.7.4"
  }
 },
 "nbformat": 4,
 "nbformat_minor": 2
}
